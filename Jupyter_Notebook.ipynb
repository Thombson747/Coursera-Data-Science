{
  "metadata": {
    "kernelspec": {
      "name": "python",
      "display_name": "Pyolite",
      "language": "python"
    },
    "language_info": {
      "codemirror_mode": {
        "name": "python",
        "version": 3
      },
      "file_extension": ".py",
      "mimetype": "text/x-python",
      "name": "python",
      "nbconvert_exporter": "python",
      "pygments_lexer": "ipython3",
      "version": "3.8"
    }
  },
  "nbformat_minor": 4,
  "nbformat": 4,
  "cells": [
    {
      "cell_type": "markdown",
      "source": "<center>\n    <img src=\"https://s3-api.us-geo.objectstorage.softlayer.net/cf-courses-data/CognitiveClass/Logos/organization_logo/organization_logo.png\" width=\"300\" alt=\"cognitiveclass.ai logo\"  />\n</center>\n",
      "metadata": {}
    },
    {
      "cell_type": "markdown",
      "source": "#### Add your code below following the instructions given in the course\n",
      "metadata": {}
    },
    {
      "cell_type": "markdown",
      "source": "# My Jupyter Notebook on IBM Watson Studio",
      "metadata": {}
    },
    {
      "cell_type": "markdown",
      "source": "**Thombson**\n\nJunior Research Fellow",
      "metadata": {}
    },
    {
      "cell_type": "markdown",
      "source": "*I am interested in data science because my research involves a lot of big data processing and analysis.*",
      "metadata": {}
    },
    {
      "cell_type": "markdown",
      "source": "### The following code calculates the square of a given number",
      "metadata": {}
    },
    {
      "cell_type": "code",
      "source": "def sq (x):\n    return (x**2)\nprint (\"The square of 5 is\", sq(5))",
      "metadata": {
        "trusted": true
      },
      "execution_count": 1,
      "outputs": [
        {
          "name": "stdout",
          "text": "The square of 5 is 25\n",
          "output_type": "stream"
        }
      ]
    },
    {
      "cell_type": "markdown",
      "source": "* Jupyter\n* Spyder\n* PyCharm\n***\n| CPU | GPU |\n| --- | --- |\n| 7900X | RTX 4090 |\n\n<a href=\"https://medium.com/@ch.thombson18\">My Medium Account</a> ",
      "metadata": {}
    },
    {
      "cell_type": "code",
      "source": "",
      "metadata": {},
      "execution_count": null,
      "outputs": []
    }
  ]
}